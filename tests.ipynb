{
 "cells": [
  {
   "attachments": {},
   "cell_type": "markdown",
   "metadata": {},
   "source": [
    "# JSON Maker~"
   ]
  },
  {
   "cell_type": "code",
   "execution_count": 76,
   "metadata": {},
   "outputs": [],
   "source": [
    "import json\n",
    "import re\n",
    "## Need to convert to function\n",
    "with open(\"psalms.json\", \"r\") as f:\n",
    "    psalms_json = json.load(f)\n",
    "\n",
    "# function to convert to superscript\n",
    "def get_super(x):\n",
    "    normal = \"0123456789\"\n",
    "    super_s = \"⁰¹²³⁴⁵⁶⁷⁸⁹\"\n",
    "    res = x.maketrans(''.join(normal), ''.join(super_s))\n",
    "    return x.translate(res)\n",
    "\n",
    "def psalm_getter(psalm, psalms_json):\n",
    "    \n",
    "    match = re.search(r\"^(Psalm )?(\\d{1,3})(:([1-9]\\d{0,2})-([1-9]\\d{0,2}))?(\\s\\(([a-zA-Z])\\))?(\\s\\((\\d{0,2})\\))?$\", psalm)\n",
    "\n",
    "    if match:\n",
    "        if match.group(2):\n",
    "            psalm = match.group(2)\n",
    "        if match.group(6):\n",
    "            version = match.group(7)\n",
    "        else:\n",
    "            version = \"a\"\n",
    "        if match.group(8):\n",
    "            section = match.group(9)\n",
    "        else:\n",
    "            section = None\n",
    "        if match.group(3):\n",
    "            verses = match.group(3)\n",
    "        elif section != None:\n",
    "            verses = \"1-300\"\n",
    "        else:\n",
    "            verses = \"1-30\"\n",
    "\n",
    "    x = 2\n",
    "\n",
    "    if section == None:\n",
    "        body = [d for d in psalms_json if d[\"Psalm\"] == str(psalm) and d[\"Content\"][\"Version\"] == version][0]['Content']['Body']\n",
    "        meter = [d for d in psalms_json if d[\"Psalm\"] == str(psalm) and d[\"Content\"][\"Version\"] == version][0]['Content']['Meter']\n",
    "    else:\n",
    "        body = [d for d in psalms_json if d[\"Psalm\"] == str(psalm) and d[\"Content\"][\"Section\"] == str(section)][0]['Content']['Body']\n",
    "        meter = [d for d in psalms_json if d[\"Psalm\"] == str(psalm) and d[\"Content\"][\"Section\"] == str(section)][0]['Content']['Meter']\n",
    "\n",
    "    lst = []\n",
    "    rng = [int(n) for n in verses.split(\"-\")]\n",
    "    for ints in range(rng[0],rng[1]):\n",
    "        try:\n",
    "            lst.append(body[str(ints)])\n",
    "        except:\n",
    "            pass\n",
    "\n",
    "    lst = list(map(get_super,lst))\n",
    "\n",
    "    return (psalm, meter,lst)"
   ]
  },
  {
   "cell_type": "code",
   "execution_count": 96,
   "metadata": {},
   "outputs": [],
   "source": [
    "all_data = []"
   ]
  },
  {
   "cell_type": "code",
   "execution_count": 97,
   "metadata": {},
   "outputs": [],
   "source": [
    "confession = {\n",
    "\"speaker\":\"All.\",\n",
    "1:\"Almighty and most merciful Father, we have erred and strayed from your ways like lost sheep. We have followed too much the devices and desires of our own hearts. We have broken your holy laws. We have left undone what we ought to have done, and we have done what we ought not to have done.\",\n",
    "2:\"O Lord, have mercy on us pitiful sinners.  Spare those, O God, who confess their faults. Restore those who truly repent, as you have promised through Jesus Christ our Lord. And grant, O merciful Father, for his sake, that we may live a godly, righteous and disciplined life, to the praise of your holy name. Amen.\"\n",
    "}\n",
    "confession = {\"Component\": \"confession\", \"Content\":confession}\n",
    "all_data.append(confession)"
   ]
  },
  {
   "cell_type": "code",
   "execution_count": 98,
   "metadata": {},
   "outputs": [],
   "source": [
    "assurance = {\n",
    "    \"speaker\":\"Minister.\",\n",
    "    1:\"Almighty God, the Father of our Lord Jesus Christ, does not desire the death of sinners but rather that they should turn from their wickedness and live. He has commanded and authorised his ministers to reassure his people that they will be forgiven when they repent of their sins. God pardons and forgives all who truly repent and sincerely believe his holy gospel.\",\n",
    "    2:\"Therefore let us beseech him to grant us true repentance and his Holy Spirit; so that what we do now may please him, that the rest of our lives may be pure and holy, and that finally we may come to his eternal joy; through Jesus Christ our Lord. Amen.\"\n",
    "}\n",
    "assurance = {\"Component\": \"assurance\", \"Content\":assurance}\n",
    "all_data.append(assurance)"
   ]
  },
  {
   "cell_type": "code",
   "execution_count": 99,
   "metadata": {},
   "outputs": [],
   "source": [
    "lords_prayer = {\n",
    "\"speaker\":\"All.\",\n",
    "1:\"Our Father in heaven, hallowed be your name, your kingdom come, your will be done, on earth as it is in heaven.\\nGive us today our daily bread.\\nForgive us our sins as we forgive those who sin against us.\\nLead us not into temptation but deliver us from evil.\\nFor yours is the kingdom, the power and the glory, now and for ever. Amen.\"\n",
    "}\n",
    "lords_prayer = {\"Component\": \"lords_prayer\", \"Content\":lords_prayer}\n",
    "all_data.append(lords_prayer)"
   ]
  },
  {
   "cell_type": "code",
   "execution_count": 100,
   "metadata": {},
   "outputs": [],
   "source": [
    "apostles_creed = {\n",
    "1:\"I believe in God, the Father Almighty, Creator of heaven and earth.\\n\\nI believe in Jesus Christ, his only Son our Lord. He was conceived by the Holy Spirit and born of the virgin Mary.\\n\\nHe suffered under Pontius Pilate, was crucified, died, and was buried. He descended to the dead.\",\n",
    "2:\"On the third day he rose again.\\nHe ascended into heaven,\\nand sits at the right hand of the Father.\\nFrom there he shall come again to judge the living and the dead.\\n\\nI believe in the Holy Spirit, the holy catholic church, the communion of saints, the forgiveness of sins, the resurrection of the body, and the life everlasting. Amen.\"\n",
    "}\n",
    "apostles_creed = {\"Component\": \"apostles_creed\", \"Content\":apostles_creed}\n",
    "all_data.append(apostles_creed)"
   ]
  },
  {
   "cell_type": "code",
   "execution_count": 101,
   "metadata": {},
   "outputs": [],
   "source": [
    "the_grace = {\n",
    "\"speaker\":\"All.\",\n",
    "1:\"The grace of the Lord Jesus Christ and the love of God and the fellowship of the Holy Spirit be with us all, evermore. Amen\"\n",
    "}\n",
    "the_grace = {\"Component\": \"the_grace\", \"Content\":the_grace}\n",
    "all_data.append(the_grace)"
   ]
  },
  {
   "cell_type": "code",
   "execution_count": 102,
   "metadata": {},
   "outputs": [],
   "source": [
    "communion = []\n",
    "confession = {\n",
    "    \"speaker\":\"All.\",\n",
    "    1:\"Almighty God, Father of our Lord Jesus Christ, Maker of all things, Judge of all people;  We acknowledge and bewail our manifold sins and wickedness,\\nWhich we, from time to time, most grievously have committed, By thought, word, and deed, Against thy Divine Majesty, Provoking most justly thy wrath and indignation against us.\",\n",
    "    2:\"We do earnestly repent,\\nAnd are heartily sorry for these our misdoings;\\nThe remembrance of them is grievous unto us; The burden of them is intolerable.\\nHave mercy upon us, Have mercy upon us, most merciful Father;\\nFor your Son our Lord Jesus Christ’s sake,\\nForgive us all that is past;\",\n",
    "    3:\"And grant that we may ever hereafter serve and please you in newness of life,\\nTo the honour and glory of your Name;\\nThrough Jesus Christ our Lord.  Amen.\"\n",
    "}\n",
    "x = {\"Component\": \"confession\", \"Content\":confession}\n",
    "communion.append(x)"
   ]
  },
  {
   "cell_type": "code",
   "execution_count": 103,
   "metadata": {},
   "outputs": [],
   "source": [
    "assurance = {\n",
    "\"speaker\":\"Minister.\",\n",
    "1: \"Almighty God, our heavenly Father,\\nwho of his great mercy has promised forgiveness of sins to all them that with hearty repentance and true faith turn unto him; Have mercy upon you; pardon and deliver you from all your sins; confirm and strengthen you in all goodness; and bring you to everlasting life; through Jesus Christ \tour Lord.  Amen.\"\n",
    "}\n",
    "x = {\"Component\": \"assurance\", \"Content\":assurance}\n",
    "communion.append(x)"
   ]
  },
  {
   "cell_type": "code",
   "execution_count": 104,
   "metadata": {},
   "outputs": [],
   "source": [
    "comfortable_words = {   \n",
    "    \"speaker\":\"Minister.\",\n",
    "    1: [\"Hear what comfortable words our Saviour Christ says to all that truly turn to him.\",\n",
    "    \"Come unto me all that travail and are heavy laden, and I will refresh you.\",\n",
    "    \"Matthew 11:28.\"],\n",
    "    2: [\"So God loved the world, that he gave his only-begotten Son,\",\n",
    "    \"to the end that all that believe in him should not perish, but have everlasting life.\",\n",
    "    \"John 3. 16.\"],\n",
    "    3:[\"Hear also what Saint Paul says.\",\n",
    "    \"This is a true saying, and worthy of all people to be received,\",\n",
    "    \"That Christ Jesus came into the world to save sinners.\",\n",
    "    \"1 Timothy 1:15.\"],\n",
    "    4:[\"Hear also what Saint John says.\",\n",
    "    \"If anyone sin, we have an Advocate with the Father, Jesus Christ the righteous; and he is the propitiation for our sins.\",\n",
    "    \"1 John 2:1\"]\n",
    "}\n",
    "x = {\"Component\": \"comfortable_words\", \"Content\":comfortable_words}\n",
    "communion.append(x)"
   ]
  },
  {
   "cell_type": "code",
   "execution_count": 105,
   "metadata": {},
   "outputs": [],
   "source": [
    "humble_access = {\n",
    "\"speaker\":\"All.\",\n",
    "1:\"We do not presume to come to this thy Table, O merciful Lord, trusting in our own righteousness, but in your manifold and great mercies. We are not worthy so much as to gather up the crumbs under your Table. But you are the same Lord, whose property is always to have mercy:\",\n",
    "2:\"Grant us therefore, gracious Lord, so to commemorate in this breaking of bread the death of thy dear Son Jesus Christ, that we may feed on him in our hearts by faith,\\nand that we may evermore dwell in him, and he in us. Amen.\"\n",
    "}\n",
    "x = {\"Component\": \"humble_access\", \"Content\":humble_access}\n",
    "communion.append(x)"
   ]
  },
  {
   "cell_type": "code",
   "execution_count": 106,
   "metadata": {},
   "outputs": [],
   "source": [
    "consecration = {\n",
    "    \"speaker\":\"Minister.\",\n",
    "    1:\"Almighty God, our heavenly Father,\\nwho of your tender mercy didst give thine only Son Jesus Christ to suffer death upon the Cross for our redemption;\\nwho made there by his one oblation of himself once offered a full, perfect, and sufficient sacrifice, oblation, and satisfaction, for the sins of the whole world;\",\n",
    "    2:\"and did institute, and in his holy Gospel command us to continue, a perpetual memory of that his precious death, until his coming again:\\nHear us, O merciful Father, we most humbly beseech you; and grant that we receiving these your creatures of bread and wine,\",\n",
    "    3:\"according to your Son our Saviour Jesus Christ’s holy institution,in remembrance of his death and passion,\\nmay, after an heavenly and spiritual manner,\\nbe partakers of his most blessed Body and Blood:\",\n",
    "    4:\"who, in the same night that he was betrayed, took Bread;\\nand, when he had given thanks, he brake it,\\nand gave it to his disciples, saying,\\nTake, eat; this is my Body which  is given for you: Do this in remembrance of me.\",\n",
    "    5:\"Likewise after supper he took the Cup; and, when he had given thanks, he gave it to them, saying,\\nDrink you all of this; for this is my Blood of the New Testament, which is shed for you and for many for the remission of sins:\\nDo this, as often as you shall drink it, in remembrance of me. Amen.\"\n",
    "}\n",
    "x = {\"Component\": \"consecration\", \"Content\":consecration}\n",
    "communion.append(x)"
   ]
  },
  {
   "cell_type": "code",
   "execution_count": 107,
   "metadata": {},
   "outputs": [],
   "source": [
    "communion = {\"Component\": \"communion\", \"Content\":communion}\n",
    "all_data.append(communion)"
   ]
  },
  {
   "cell_type": "code",
   "execution_count": 108,
   "metadata": {},
   "outputs": [],
   "source": [
    "import json\n",
    "with open('components.json', 'w') as json_file:\n",
    "  json.dump(all_data, json_file, indent=4)"
   ]
  },
  {
   "attachments": {},
   "cell_type": "markdown",
   "metadata": {},
   "source": [
    "# Trial Script"
   ]
  },
  {
   "cell_type": "code",
   "execution_count": 11,
   "metadata": {},
   "outputs": [],
   "source": [
    "import json\n",
    "def create_json_var(name):\n",
    "    with open(f\"{name}.json\", \"r\") as f:\n",
    "        value = json.load(f)\n",
    "        globals()[name + \"_json\"] = value"
   ]
  },
  {
   "cell_type": "code",
   "execution_count": 12,
   "metadata": {},
   "outputs": [],
   "source": [
    "import json\n",
    "with open(\"psalms.json\", \"r\") as f:\n",
    "    psalms_json = json.load(f)"
   ]
  },
  {
   "cell_type": "code",
   "execution_count": 13,
   "metadata": {},
   "outputs": [],
   "source": [
    "import json\n",
    "with open(\"components.json\", \"r\") as f:\n",
    "    components_json = json.load(f)"
   ]
  },
  {
   "cell_type": "code",
   "execution_count": 15,
   "metadata": {},
   "outputs": [
    {
     "name": "stdout",
     "output_type": "stream",
     "text": [
      "Error in cycle loading\n"
     ]
    }
   ],
   "source": [
    "from functions import *\n",
    "import pandas as pd\n",
    "\n",
    "df = pd.read_csv('https://docs.google.com/spreadsheets/d/e/2PACX-1vSIEtCzAWNJVZK7T1OEo1oGhnTib2bgFfdYRfFON1gpbG7LkHTFRJKSioV087Ys1oBZci80cRIRm0_u/pub?gid=0&single=true&output=csv')\n",
    "\n",
    "cycle = df[\"Example Column\"]\n",
    "\n",
    "try:\n",
    "    call_to_worship = get_esv_text(cycle[1])\n",
    "    song1 = song_details(cycle[2], cycle[3])\n",
    "    ## (psalm, meter,lst)\n",
    "    psalm = psalm_getter(cycle[4])\n",
    "    psalm_tune = tune_details(cycle[5])\n",
    "    first_reading = cycle[6]\n",
    "    catechism_reading = catechism_finder(cycle[7])\n",
    "    song2 = song_details(cycle[8], cycle[9])\n",
    "    second_reading = cycle[10]\n",
    "    song3 = song_details(cycle[11], cycle[12])\n",
    "    song4 = song_details(cycle[13], cycle[14])\n",
    "except:\n",
    "    print(\"Error in cycle loading\")"
   ]
  },
  {
   "cell_type": "code",
   "execution_count": 12,
   "metadata": {},
   "outputs": [],
   "source": [
    "from bs4 import BeautifulSoup\n",
    "import requests\n",
    "\n",
    "url = 'https://hymnary.org/text/joyful_joyful_we_adore_thee'\n",
    "\n",
    "response = requests.get(url)\n",
    "soup = BeautifulSoup(response.content, 'html.parser')\n",
    "\n",
    "body_text = soup.select_one('div#at_fulltext.authority_section div div.authority_columns')\n",
    "paragraphs = body_text.find_all('p')\n",
    "verses = []\n",
    "for p in paragraphs:\n",
    "    val = p.text.replace(\"\\r\",\"\")\n",
    "    verses.append(val)"
   ]
  },
  {
   "cell_type": "code",
   "execution_count": 13,
   "metadata": {},
   "outputs": [
    {
     "data": {
      "text/plain": [
       "[\"1 Joyful, joyful, we adore You,\\nGod of glory, Lord of love;\\nHearts unfold like flow'rs before You,\\nOp'ning to the sun above.\\nMelt the clouds of sin and sadness;\\nDrive the dark of doubt away;\\nGiver of immortal gladness,\\nFill us with the light of day! \",\n",
       " \"2 All Your works with joy surround You,\\nEarth and heav'n reflect Your rays,\\nStars and angels sing around You,\\nCenter of unbroken praise;\\nField and forest, vale and mountain,\\nFlow'ry meadow, flashing sea,\\nChanting bird and flowing fountain\\nPraising You eternally! \",\n",
       " '3 Always giving and forgiving,\\nEver blessing, ever blest,\\nWell-spring of the joy of living,\\nOcean-depth of happy rest!\\nLoving Father, Christ our Brother,\\nLet Your light upon us shine;\\nTeach us how to love each other,\\nLift us to the joy divine. ',\n",
       " \"4 Mortals, join the mighty chorus,\\nWhich the morning stars began;\\nGod's own love is reigning o’er us,\\nJoining people hand in hand.\\nEver singing, march we onward,\\nVictors in the midst of strife;\\nJoyful music leads us sunward\\nIn the triumph song of life. \",\n",
       " 'African American Heritage Hymnal, (2001)']"
      ]
     },
     "execution_count": 13,
     "metadata": {},
     "output_type": "execute_result"
    }
   ],
   "source": [
    "verses"
   ]
  },
  {
   "cell_type": "code",
   "execution_count": 1,
   "metadata": {},
   "outputs": [
    {
     "name": "stdout",
     "output_type": "stream",
     "text": [
      "This is some text with HTML formatting.\n"
     ]
    }
   ],
   "source": [
    "import re\n",
    "\n",
    "html_string = \"<p>This is <b>some</b> text <i>with</i> <u>HTML</u> formatting.</p>\"\n",
    "text = re.sub('<[^<]+?>', '', html_string)\n",
    "print(text)"
   ]
  },
  {
   "cell_type": "code",
   "execution_count": 17,
   "metadata": {},
   "outputs": [],
   "source": [
    "# If value is a list, then use second value as slide title\n",
    "slide_dict = {\n",
    "    2: \"Notices\",\n",
    "    3: [\"call_to_worship\",\"Call to worship\"],\n",
    "    4: \"song1\",\n",
    "    5: [\"confession\",\"Confession\"],\n",
    "    6: [\"assurance\", \"Assurance of Pardon\"],\n",
    "    7: [\"lords_prayer\",\"The Lord's Prayer\"],\n",
    "    8: \"psalm\",\n",
    "    9: [\"first_reading\",\"First Reading\"],\n",
    "    10: \"catechism_reading\",\n",
    "    11: \"song2\",\n",
    "    12: [\"second_reading\",\"Second Reading\"],\n",
    "    13: [\"apostles_creed\",\"Apostles' Creed (180 AD)\"],\n",
    "    14: [\"Prayers\",\"Prayers of Intercession\"],\n",
    "    15: \"song3\",\n",
    "    16: \"song4\",\n",
    "    17: [\"the_grace\",\"The Grace\"],\n",
    "    18: \"Goodbye\"\n",
    "}\n",
    "\n",
    "# Make a dictionary of the keys where slide_dict value starts with \"song\" or \"psalm\", some values are lists, so need to check for that\n",
    "song_list = []\n",
    "component_list = []\n",
    "reading_list = []\n",
    "catechism_list = []\n",
    "for elem in slide_dict:\n",
    "    if type(slide_dict[elem]) != list:\n",
    "        if slide_dict[elem].startswith(\"song\") or slide_dict[elem].startswith(\"psalm\"):\n",
    "            song_list.append(elem)\n",
    "        elif slide_dict[elem].startswith(\"catechism\"):\n",
    "            catechism_list.append(elem)\n",
    "    elif type(slide_dict[elem]) == list:\n",
    "        if \"reading\" in slide_dict[elem][0]:\n",
    "            reading_list.append(elem)\n",
    "        elif slide_dict[elem][0] not in ['call_to_worship']:\n",
    "            component_list.append(elem)"
   ]
  },
  {
   "cell_type": "code",
   "execution_count": 32,
   "metadata": {},
   "outputs": [],
   "source": [
    "class SlideFill:\n",
    "    def __init__(self, slide):\n",
    "        self.slide = slide\n",
    "    \n",
    "    def fill_main(self, title, body, copy):\n",
    "        for idx, placeholder in enumerate(self.slide.placeholders):\n",
    "            try:\n",
    "                placeholder.text_frame.clear()\n",
    "                if idx == 0:\n",
    "                    new_body = title\n",
    "                elif idx == 1:\n",
    "                    new_body = body\n",
    "                elif idx == 2:\n",
    "                    new_body = copy\n",
    "                placeholder.text_frame.text = new_body\n",
    "            except:\n",
    "                pass\n",
    "    \n",
    "    def fill_component(self, title, body, address):\n",
    "        for idx, placeholder in enumerate(self.slide.placeholders):\n",
    "            try:\n",
    "                placeholder.text_frame.clear()\n",
    "                if idx == 0:\n",
    "                    placeholder.text_frame.text = title\n",
    "                elif idx == 1:\n",
    "                    p = placeholder.text_frame.add_paragraph()\n",
    "                    run = p.add_run()\n",
    "                    run.font.size = Pt(28)\n",
    "                    run.font.color.rgb = RGBColor(161, 38, 38)\n",
    "                    run.text = f\"{address} \"\n",
    "                    run = p.add_run()\n",
    "                    run.font.size = Pt(28)\n",
    "                    run.font.color.rgb = RGBColor(0, 0, 0)\n",
    "                    run.text = body    \n",
    "            except:\n",
    "                pass\n",
    "    \n",
    "    def fill_psalm(self, title, body, copy, meter):\n",
    "        for idx, placeholder in enumerate(self.slide.placeholders):\n",
    "            try:\n",
    "                placeholder.text_frame.clear()\n",
    "                if idx == 0:\n",
    "                    new_body = title\n",
    "                elif idx == 1:\n",
    "                    new_body = body\n",
    "                elif idx == 2:\n",
    "                    new_body = copy\n",
    "                elif idx == 3:\n",
    "                    new_body = meter\n",
    "                placeholder.text_frame.text = new_body\n",
    "            except:\n",
    "                pass\n",
    "\n",
    "    def fill_reading(self,title,body):\n",
    "        for idx, placeholder in enumerate(self.slide.placeholders):\n",
    "            try:\n",
    "                placeholder.text_frame.clear()\n",
    "                if idx == 0:\n",
    "                    new_body = title\n",
    "                elif idx == 1:\n",
    "                    new_body = body\n",
    "                placeholder.text_frame.text = new_body\n",
    "            except:\n",
    "                pass\n",
    "\n"
   ]
  },
  {
   "cell_type": "code",
   "execution_count": 36,
   "metadata": {},
   "outputs": [],
   "source": [
    "import html\n",
    "from pptx import Presentation\n",
    "from pptx.dml.color import RGBColor\n",
    "from pptx.util import Pt\n",
    "from pptx.enum.text import PP_ALIGN\n",
    "\n",
    "\n",
    "def flag_format(flag):\n",
    "    try:\n",
    "        ## Such as 'notices' and 'song1'\n",
    "        if type(flag) == str:\n",
    "            return globals()[flag]\n",
    "        elif type(flag) == list:\n",
    "            try:\n",
    "                ## For 'component versions\n",
    "                if type(flag) == list:\n",
    "                    return component_assigner(flag[0])\n",
    "            except:\n",
    "                ## For 'call to worship'\n",
    "                return (globals()[flag[0]],flag[1])\n",
    "    except:\n",
    "        return \"Error\"\n",
    "\n",
    "def slide_maker(layout_type):\n",
    "    slide_layout = prs.slide_layouts[layout_type]\n",
    "    slide = prs.slides.add_slide(slide_layout)\n",
    "    return slide\n",
    "\n",
    "\n",
    "def slide_writer(flag):\n",
    "    # Populate the placeholders on the slide with data from variables\n",
    "    flag_val = flag_format(slide_dict[flag])\n",
    "\n",
    "    \n",
    "    if flag == 3:\n",
    "        slide = slide_maker(1)\n",
    "        # This works for call to worship\n",
    "        title = flag_val[1]\n",
    "        body = flag_val[0][0]\n",
    "        copy = flag_val[0][1]\n",
    "        SlideFill(slide).fill_main(title, body, copy)\n",
    "    elif flag in song_list:\n",
    "        # This works for psalms\n",
    "        try:\n",
    "            flag_val[0].find(\"Psalm\") != -1\n",
    "            list_len = len(flag_val[2])\n",
    "            for i in range(0,list_len):\n",
    "                slide = slide_maker(3)\n",
    "                title = flag_val[0]\n",
    "                body = flag_val[2][i]\n",
    "                copy = f\"Words: Sing Psalms! © 2003 Free Church of Scotland\\nComposer: {psalm_tune[0]}\\nTune: {psalm_tune[1]}\\n©: Public Domain\\nCCLI: 522221\"\n",
    "                meter = f\"Meter: {flag_val[1]}\"\n",
    "                SlideFill(slide).fill_psalm(title, body, copy, meter)\n",
    "        except:\n",
    "            # This works for songs\n",
    "            try:\n",
    "                list_len = len(flag_val[0])\n",
    "                for i in range(0,list_len):\n",
    "                    slide = slide_maker(0)\n",
    "                    title = flag_val[1]\n",
    "                    body = flag_val[0][i]\n",
    "                    # Could put this outside the loop, in the future to only fill on the final slide\n",
    "                    copy = f\"Words: {flag_val[2]}\\nComposer: {flag_val[3]}\\nTune: {flag_val[4]}\\n©: {flag_val[5]}\\nCCLI: 522221\"\n",
    "                    SlideFill(slide).fill_main(title, body, copy)\n",
    "            except:\n",
    "                slide = slide_maker(0)\n",
    "                try:\n",
    "                    title = flag_val[1]\n",
    "                except:\n",
    "                    title = slide_dict[flag]\n",
    "                body = \"Not in Public Domain\"\n",
    "                try:\n",
    "                    copy = f\"Words: {flag_val[2]}\\nComposer: {flag_val[3]}\\nTune: {flag_val[4]}\\n©: {flag_val[5]}\\nCCLI: 522221\"\n",
    "                except:\n",
    "                    copy = \"Error\"\n",
    "                SlideFill(slide).fill_main(title, body, copy)\n",
    "                \n",
    "    elif flag in component_list:\n",
    "        # This works for components\n",
    "        list_len = len(flag_val[1])\n",
    "        for i in range(0,list_len):\n",
    "            slide = slide_maker(2)\n",
    "            title = slide_dict[flag][1]\n",
    "            address = flag_val[0]\n",
    "            body = flag_val[1][i]\n",
    "            SlideFill(slide).fill_component(title, body, address)\n",
    "    \n",
    "    elif flag in reading_list:\n",
    "        title = flag_val[1]\n",
    "        body = f\"{flag_val[0]}\\n\\npg. X\"\n",
    "        slide = slide_maker(4)\n",
    "        SlideFill(slide).fill_reading(title, body)\n",
    "\n"
   ]
  },
  {
   "cell_type": "code",
   "execution_count": 50,
   "metadata": {},
   "outputs": [],
   "source": [
    "number = int(cycle[7])-1\n",
    "catechism_reading_today = catechism_finder(cycle[7])\n",
    "catechism_reading_previous = catechism_finder(number)"
   ]
  },
  {
   "cell_type": "code",
   "execution_count": 40,
   "metadata": {},
   "outputs": [
    {
     "name": "stdout",
     "output_type": "stream",
     "text": [
      "10\n"
     ]
    }
   ],
   "source": [
    "\n",
    "\n",
    "template_file = 'Presentation1.pptx'\n",
    "\n",
    "\n",
    "# Open the template file\n",
    "# Create new class instance (prs)\n",
    "prs = Presentation(template_file)\n",
    "\n",
    "\n",
    "## Currently trying to sort out adding catechism pages\n",
    "for i in range (10,11):\n",
    "    try:\n",
    "        print(i)\n",
    "        slide_writer(i)\n",
    "    except:\n",
    "        print(f\"Error on slide {i}\")\n",
    "\n",
    "\n",
    "\n",
    "# Save the PowerPoint file\n",
    "prs.save('example_from_template.pptx')"
   ]
  },
  {
   "cell_type": "code",
   "execution_count": null,
   "metadata": {},
   "outputs": [],
   "source": []
  }
 ],
 "metadata": {
  "kernelspec": {
   "display_name": "Python 3",
   "language": "python",
   "name": "python3"
  },
  "language_info": {
   "codemirror_mode": {
    "name": "ipython",
    "version": 3
   },
   "file_extension": ".py",
   "mimetype": "text/x-python",
   "name": "python",
   "nbconvert_exporter": "python",
   "pygments_lexer": "ipython3",
   "version": "3.9.13"
  },
  "orig_nbformat": 4,
  "vscode": {
   "interpreter": {
    "hash": "0d96c514d3d23b093b6c2c07228d997a00d60b0fd1b9cd9b2e11e9012e693e1e"
   }
  }
 },
 "nbformat": 4,
 "nbformat_minor": 2
}
